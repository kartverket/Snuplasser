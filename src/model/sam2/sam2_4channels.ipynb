{
 "cells": [
  {
   "cell_type": "code",
   "execution_count": 0,
   "metadata": {
    "application/vnd.databricks.v1+cell": {
     "cellMetadata": {},
     "inputWidgets": {},
     "nuid": "62339703-4676-4da6-b4dd-1c20aace09a4",
     "showTitle": false,
     "tableResultSettingsMap": {},
     "title": ""
    }
   },
   "outputs": [],
   "source": [
    "# Copyright (c) Meta Platforms, Inc. and affiliates.\n",
    "# All rights reserved.\n",
    "\n",
    "# This source code is licensed under the license found in the\n",
    "# LICENSE file in the root directory of this source tree."
   ]
  },
  {
   "cell_type": "code",
   "execution_count": 0,
   "metadata": {
    "application/vnd.databricks.v1+cell": {
     "cellMetadata": {
      "byteLimit": 2048000,
      "rowLimit": 10000
     },
     "inputWidgets": {},
     "nuid": "6492e081-d6ad-4bea-b8ad-c2f5f0332f6e",
     "showTitle": false,
     "tableResultSettingsMap": {},
     "title": ""
    }
   },
   "outputs": [],
   "source": [
    "%sh pip install git+https://github.com/facebookresearch/segment-anything-2"
   ]
  },
  {
   "cell_type": "code",
   "execution_count": 0,
   "metadata": {
    "application/vnd.databricks.v1+cell": {
     "cellMetadata": {
      "byteLimit": 2048000,
      "rowLimit": 10000
     },
     "inputWidgets": {},
     "nuid": "62c9ee2b-6f7f-4a20-9ea0-08bd913e9848",
     "showTitle": false,
     "tableResultSettingsMap": {},
     "title": ""
    }
   },
   "outputs": [],
   "source": [
    "%%bash\n",
    "[ -d checkpoints ] && [ \"$(ls -A checkpoints)\" ] && exit 0\n",
    "\n",
    "mkdir -p checkpoints\n",
    "cd checkpoints\n",
    "curl -O https://raw.githubusercontent.com/facebookresearch/sam2/main/checkpoints/download_ckpts.sh\n",
    "bash download_ckpts.sh || true"
   ]
  },
  {
   "cell_type": "code",
   "execution_count": 0,
   "metadata": {
    "application/vnd.databricks.v1+cell": {
     "cellMetadata": {
      "byteLimit": 2048000,
      "rowLimit": 10000
     },
     "inputWidgets": {},
     "nuid": "9e66ce64-4021-478d-bace-bf57865b24fa",
     "showTitle": false,
     "tableResultSettingsMap": {},
     "title": ""
    }
   },
   "outputs": [],
   "source": [
    "import os\n",
    "import mlflow\n",
    "from argparse import ArgumentParser\n",
    "from hydra import initialize_config_dir\n",
    "from hydra.core.global_hydra import GlobalHydra\n",
    "from sam2.build_sam import build_sam2\n",
    "from training.train import main as train_main\n",
    "from training.utils.train_utils import register_omegaconf_resolvers\n",
    "from dataset_4channels import SnuplassDataset\n",
    "from inference import vos_inference\n",
    "from image_predictor import SAM2ImagePredictor"
   ]
  },
  {
   "cell_type": "code",
   "execution_count": 0,
   "metadata": {
    "application/vnd.databricks.v1+cell": {
     "cellMetadata": {
      "byteLimit": 2048000,
      "rowLimit": 10000
     },
     "inputWidgets": {},
     "nuid": "61300a75-e73e-441e-9ec1-599bdad4839c",
     "showTitle": false,
     "tableResultSettingsMap": {},
     "title": ""
    }
   },
   "outputs": [],
   "source": [
    "GlobalHydra.instance().clear()\n",
    "\n",
    "\n",
    "if __name__ == \"__main__\":\n",
    "    mlflow.pytorch.autolog()\n",
    "\n",
    "    # Initialize Hydra config directory\n",
    "    initialize_config_dir(config_dir=os.getcwd(), version_base=\"1.3\")\n",
    "\n",
    "    parser = ArgumentParser()\n",
    "    parser.add_argument(\n",
    "        \"-c\", \"--config\", default=\"./configs/sam2.1_training/sam2.1_4channels_finetune.yaml\", type=str,\n",
    "        help=\"path to config file\",\n",
    "    )\n",
    "    parser.add_argument(\n",
    "        \"--use-cluster\", type=int, default=0,\n",
    "        help=\"0: run locally, 1: run on a cluster\",\n",
    "    )\n",
    "    parser.add_argument(\"--partition\", type=str, default=None, help=\"SLURM partition\")\n",
    "    parser.add_argument(\"--account\", type=str, default=None, help=\"SLURM account\")\n",
    "    parser.add_argument(\"--qos\", type=str, default=None, help=\"SLURM qos\")\n",
    "    parser.add_argument(\"--num-gpus\", type=int, default=1, help=\"number of GPUS per node\")\n",
    "    parser.add_argument(\"--num-nodes\", type=int, default=1, help=\"Number of nodes\")\n",
    "    args, unknown = parser.parse_known_args()\n",
    "\n",
    "    # Register resolvers for omegaconf\n",
    "    register_omegaconf_resolvers()\n",
    "\n",
    "    with mlflow.start_run():\n",
    "        train_main(args)\n",
    "\n",
    "        model_cfg = \"./configs/sam2.1/sam2.1_hiera_t_4channels.yaml\"\n",
    "        model_ckpt = \"./sam2_logs/configs/sam2.1_training/sam2.1_4channels_finetune.yaml/checkpoints/checkpoint.pt\"\n",
    "        sam2_model = build_sam2(model_cfg, model_ckpt, device=\"cuda\")\n",
    "        predictor = SAM2ImagePredictor(sam2_model)\n",
    "\n",
    "        image_dir = \"/Volumes/land_topografisk-gdb_dev/external_dev/static_data/DL_SNUPLASSER/img/\"\n",
    "        dom_dir = \"/Volumes/land_topografisk-gdb_dev/external_dev/static_data/DL_SNUPLASSER/dom/\"\n",
    "        mask_dir = \"/Volumes/land_topografisk-gdb_dev/external_dev/static_data/DL_SNUPLASSER/lab/\"\n",
    "        dataset = SnuplassDataset(image_dir, mask_dir, dom_dir, \"val\")\n",
    "        vos_inference(predictor, dataset, 4)"
   ]
  }
 ],
 "metadata": {
  "application/vnd.databricks.v1+notebook": {
   "computePreferences": null,
   "dashboards": [],
   "environmentMetadata": {
    "base_environment": "",
    "environment_version": "2"
   },
   "inputWidgetPreferences": null,
   "language": "python",
   "notebookMetadata": {
    "mostRecentlyExecutedCommandWithImplicitDF": {
     "commandId": 2722541080138504,
     "dataframes": [
      "_sqldf"
     ]
    },
    "pythonIndentUnit": 4
   },
   "notebookName": "sam2_4channels",
   "widgets": {}
  },
  "language_info": {
   "name": "python"
  }
 },
 "nbformat": 4,
 "nbformat_minor": 0
}
