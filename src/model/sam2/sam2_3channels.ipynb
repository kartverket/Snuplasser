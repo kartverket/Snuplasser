{
 "cells": [
  {
   "cell_type": "code",
   "execution_count": 0,
   "metadata": {
    "application/vnd.databricks.v1+cell": {
     "cellMetadata": {
      "byteLimit": 2048000,
      "rowLimit": 10000
     },
     "inputWidgets": {},
     "nuid": "1f378471-ba18-40ca-9801-d4acaec6fe08",
     "showTitle": false,
     "tableResultSettingsMap": {},
     "title": ""
    }
   },
   "outputs": [],
   "source": [
    "%sh pip install git+https://github.com/facebookresearch/segment-anything-2"
   ]
  },
  {
   "cell_type": "code",
   "execution_count": 0,
   "metadata": {
    "application/vnd.databricks.v1+cell": {
     "cellMetadata": {},
     "inputWidgets": {},
     "nuid": "5f9f5393-3c81-4f1e-9f53-0c6db5cd731d",
     "showTitle": false,
     "tableResultSettingsMap": {},
     "title": ""
    }
   },
   "outputs": [],
   "source": [
    "%%bash\n",
    "[ -d checkpoints ] && [ \"$(ls -A checkpoints)\" ] && exit 0\n",
    "\n",
    "mkdir -p checkpoints\n",
    "cd checkpoints\n",
    "curl -O https://raw.githubusercontent.com/facebookresearch/sam2/main/checkpoints/download_ckpts.sh\n",
    "bash download_ckpts.sh || true"
   ]
  },
  {
   "cell_type": "code",
   "execution_count": 0,
   "metadata": {
    "application/vnd.databricks.v1+cell": {
     "cellMetadata": {
      "byteLimit": 2048000,
      "rowLimit": 10000
     },
     "inputWidgets": {},
     "nuid": "a22993de-cbd7-457b-bed3-8f387ce5aa1a",
     "showTitle": false,
     "tableResultSettingsMap": {},
     "title": ""
    }
   },
   "outputs": [],
   "source": [
    "import os\n",
    "import mlflow\n",
    "import mlflow.pytorch\n",
    "from argparse import ArgumentParser\n",
    "from hydra import initialize_config_dir\n",
    "from hydra.core.global_hydra import GlobalHydra\n",
    "\n",
    "from dataset_3channels import SnuplassDataset\n",
    "from inference import vos_inference\n",
    "\n",
    "from sam2.build_sam import build_sam2\n",
    "from sam2.sam2_image_predictor import SAM2ImagePredictor\n",
    "from training.train import main as train_main\n",
    "from training.utils.train_utils import register_omegaconf_resolvers\n"
   ]
  },
  {
   "cell_type": "code",
   "execution_count": 0,
   "metadata": {
    "application/vnd.databricks.v1+cell": {
     "cellMetadata": {
      "byteLimit": 2048000,
      "rowLimit": 10000
     },
     "inputWidgets": {},
     "nuid": "6e8530ee-3d99-43d4-af31-b3ac287d454c",
     "showTitle": false,
     "tableResultSettingsMap": {},
     "title": ""
    }
   },
   "outputs": [],
   "source": [
    "GlobalHydra.instance().clear()\n",
    "\n",
    "\n",
    "if __name__ == \"__main__\":\n",
    "    mlflow.pytorch.autolog()\n",
    "\n",
    "    # Initialize Hydra config directory to current directory\n",
    "    initialize_config_dir(config_dir=os.getcwd(), version_base=\"1.3\")\n",
    "\n",
    "    parser = ArgumentParser()\n",
    "    parser.add_argument(\n",
    "        \"-c\",\n",
    "        \"--config\",\n",
    "        default=\"./configs/sam2.1_training/sam2.1_3channels_finetune.yaml\",\n",
    "        type=str,\n",
    "        help=\"path to config file\",\n",
    "    )\n",
    "    parser.add_argument(\n",
    "        \"--use-cluster\",\n",
    "        type=int,\n",
    "        default=0,\n",
    "        help=\"whether to launch on a cluster, 0: run locally, 1: run on a cluster\",\n",
    "    )\n",
    "    parser.add_argument(\"--partition\", type=str, default=None, help=\"SLURM partition\")\n",
    "    parser.add_argument(\"--account\", type=str, default=None, help=\"SLURM account\")\n",
    "    parser.add_argument(\"--qos\", type=str, default=None, help=\"SLURM qos\")\n",
    "    parser.add_argument(\n",
    "        \"--num-gpus\", type=int, default=1, help=\"number of GPUS per node\"\n",
    "    )\n",
    "    parser.add_argument(\"--num-nodes\", type=int, default=1, help=\"Number of nodes\")\n",
    "    args, unknown = parser.parse_known_args()\n",
    "\n",
    "    # Register resolvers for omegaconf\n",
    "    register_omegaconf_resolvers()\n",
    "\n",
    "    with mlflow.start_run():\n",
    "        train_main(args)\n",
    "\n",
    "        model_cfg = \"./configs/sam2.1/sam2.1_hiera_t.yaml\"\n",
    "        model_ckpt = \"./sam2_logs/configs/sam2.1_training/sam2.1_3channels_finetune.yaml/checkpoints/checkpoint.pt\"\n",
    "        sam2_model = build_sam2(model_cfg, model_ckpt, device=\"cuda\")\n",
    "        predictor = SAM2ImagePredictor(sam2_model)\n",
    "\n",
    "        image_dir = \"/Volumes/land_topografisk-gdb_dev/external_dev/static_data/DL_SNUPLASSER/img/\"\n",
    "        mask_dir = \"/Volumes/land_topografisk-gdb_dev/external_dev/static_data/DL_SNUPLASSER/lab/\"\n",
    "        dataset = SnuplassDataset(image_dir, mask_dir, \"val\")\n",
    "        vos_inference(predictor, dataset, 3)"
   ]
  }
 ],
 "metadata": {
  "application/vnd.databricks.v1+notebook": {
   "computePreferences": null,
   "dashboards": [],
   "environmentMetadata": {
    "base_environment": "",
    "environment_version": "2"
   },
   "inputWidgetPreferences": null,
   "language": "python",
   "notebookMetadata": {
    "mostRecentlyExecutedCommandWithImplicitDF": {
     "commandId": 6532164469224128,
     "dataframes": [
      "_sqldf"
     ]
    },
    "pythonIndentUnit": 4
   },
   "notebookName": "sam2_3channels",
   "widgets": {}
  },
  "language_info": {
   "name": "python"
  }
 },
 "nbformat": 4,
 "nbformat_minor": 0
}
