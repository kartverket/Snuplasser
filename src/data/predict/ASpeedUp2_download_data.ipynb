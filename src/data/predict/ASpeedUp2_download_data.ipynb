{
 "cells": [
  {
   "cell_type": "code",
   "execution_count": 0,
   "metadata": {
    "application/vnd.databricks.v1+cell": {
     "cellMetadata": {
      "byteLimit": 2048000,
      "rowLimit": 10000
     },
     "inputWidgets": {},
     "nuid": "9c8087e0-5a62-4222-93e3-89a68ef16ba3",
     "showTitle": false,
     "tableResultSettingsMap": {},
     "title": ""
    }
   },
   "outputs": [],
   "source": [
    "%pip install python-dotenv"
   ]
  },
  {
   "cell_type": "code",
   "execution_count": 0,
   "metadata": {
    "application/vnd.databricks.v1+cell": {
     "cellMetadata": {
      "byteLimit": 2048000,
      "rowLimit": 10000
     },
     "inputWidgets": {},
     "nuid": "14b6804f-3d41-4ce1-b005-a77cb12c2691",
     "showTitle": false,
     "tableResultSettingsMap": {},
     "title": ""
    }
   },
   "outputs": [],
   "source": [
    "import os\n",
    "import time\n",
    "import requests\n",
    "from pyspark.sql.functions import lit\n",
    "from delta.tables import DeltaTable\n",
    "from dotenv import load_dotenv"
   ]
  },
  {
   "cell_type": "code",
   "execution_count": 0,
   "metadata": {
    "application/vnd.databricks.v1+cell": {
     "cellMetadata": {
      "byteLimit": 2048000,
      "rowLimit": 10000
     },
     "inputWidgets": {},
     "nuid": "7381f9bc-9c31-4633-95ea-be2fff2e6091",
     "showTitle": false,
     "tableResultSettingsMap": {},
     "title": ""
    }
   },
   "outputs": [],
   "source": [
    "IMAGE_SIZE = [512, 512]\n",
    "catalog_dev = \"`land_topografisk-gdb_dev`\"\n",
    "schema_dev = \"ai2025\"\n",
    "spark.sql(f\"USE CATALOG {catalog_dev}\")\n",
    "spark.sql(f\"USE SCHEMA {schema_dev}\")\n",
    "\n",
    "nyendepunkt_silver = \"utenfotottid_nyendepunkt_silver\""
   ]
  },
  {
   "cell_type": "code",
   "execution_count": 0,
   "metadata": {
    "application/vnd.databricks.v1+cell": {
     "cellMetadata": {
      "byteLimit": 2048000,
      "rowLimit": 10000
     },
     "inputWidgets": {},
     "nuid": "e808a177-9881-4b26-a335-0c8339128d05",
     "showTitle": false,
     "tableResultSettingsMap": {},
     "title": ""
    }
   },
   "outputs": [],
   "source": [
    "endepunkt_image_output_dir = \"/Volumes/land_topografisk-gdb_dev/external_dev/static_data/DL_SNUPLASSER/storreendepunkt_images/\"\n",
    "os.makedirs(endepunkt_image_output_dir, exist_ok=True)"
   ]
  },
  {
   "cell_type": "code",
   "execution_count": 0,
   "metadata": {
    "application/vnd.databricks.v1+cell": {
     "cellMetadata": {
      "byteLimit": 2048000,
      "rowLimit": 10000
     },
     "inputWidgets": {},
     "nuid": "d1d409cb-014e-4beb-960c-e8b3d4907b7d",
     "showTitle": false,
     "tableResultSettingsMap": {},
     "title": ""
    }
   },
   "outputs": [],
   "source": [
    "load_dotenv()\n",
    "BRUKERID = os.getenv(\"GEONORGE_BRUKERID\")\n",
    "PASSORD  = os.getenv(\"GEONORGE_PASSORD\")\n",
    "\n",
    "def get_token():\n",
    "    \"\"\"\n",
    "    Hender token fra GeoNorge og returnerer det.\n",
    "    \"\"\"\n",
    "    url = (\n",
    "        f\"https://baat.geonorge.no/skbaatts/req?brukerid={BRUKERID}\"\n",
    "        f\"&passord={PASSORD}&tjenesteid=wms.nib&retformat=s\"\n",
    "    )\n",
    "    raw_token = requests.get(url).text.strip(\"`\")\n",
    "    return raw_token\n",
    "\n",
    "token = get_token()\n",
    "token_start_time = time.time()\n",
    "token_lifetime = 55 * 60  \n",
    "\n",
    "def refresh_token_if_needed():\n",
    "    \"\"\"\n",
    "    henter ny token om den gamle er utløpt.\n",
    "    \"\"\"\n",
    "    global token, token_start_time\n",
    "    if time.time() - token_start_time > token_lifetime:\n",
    "        print(\"🔄 Fornyer token...\")\n",
    "        token = get_token()\n",
    "        token_start_time = time.time()"
   ]
  },
  {
   "cell_type": "code",
   "execution_count": 0,
   "metadata": {
    "application/vnd.databricks.v1+cell": {
     "cellMetadata": {
      "byteLimit": 2048000,
      "rowLimit": 10000
     },
     "inputWidgets": {},
     "nuid": "30cdc891-9ec9-48f8-ac36-7694fb29d41c",
     "showTitle": false,
     "tableResultSettingsMap": {},
     "title": ""
    }
   },
   "outputs": [],
   "source": [
    "def download_image(\n",
    "    url: str, out_path: str, retries: int = 3, backoff: float = 2.0\n",
    ") -> bool:\n",
    "    \"\"\"\n",
    "    Prøver å laste ned et bilde fra en URL og lagrer det lokalt.\n",
    "    \"\"\"\n",
    "    for attempt in range(1, retries + 1):\n",
    "        try:\n",
    "            r = requests.get(url, timeout=30)\n",
    "            if r.status_code == 200:\n",
    "                with open(out_path, \"wb\") as f:\n",
    "                    f.write(r.content)\n",
    "                return True\n",
    "            else:\n",
    "                print(\n",
    "                    f\"⚠️ Nedlasting feilet (status {r.status_code}) på forsøk {attempt}\"\n",
    "                )\n",
    "        except Exception as e:\n",
    "            print(f\"❌ Feil ved nedlasting på forsøk {attempt}: {e}\")\n",
    "\n",
    "        # Prøver på nytt ved feil, med eksponentiell backoff\n",
    "        if attempt < retries:\n",
    "            sleep_time = backoff * attempt  # eksponentiell ventetid\n",
    "            time.sleep(sleep_time)\n",
    "\n",
    "    print(f\"❌ Alle {retries} forsøk mislyktes for {url}\")\n",
    "    return False"
   ]
  },
  {
   "cell_type": "code",
   "execution_count": 0,
   "metadata": {
    "application/vnd.databricks.v1+cell": {
     "cellMetadata": {
      "byteLimit": 2048000,
      "rowLimit": 10000
     },
     "inputWidgets": {},
     "nuid": "7d224657-559f-4373-9882-b66033f101a6",
     "showTitle": false,
     "tableResultSettingsMap": {},
     "title": ""
    }
   },
   "outputs": [],
   "source": [
    "incomplete_df = (\n",
    "    spark.read.table(nyendepunkt_silver)\n",
    "    .filter(\"image_status = 'PENDING'\")\n",
    "    .select(\"nodeid\", \"image_wms\")\n",
    "    .toPandas()\n",
    ")"
   ]
  },
  {
   "cell_type": "code",
   "execution_count": 0,
   "metadata": {
    "application/vnd.databricks.v1+cell": {
     "cellMetadata": {
      "byteLimit": 2048000,
      "rowLimit": 10000
     },
     "inputWidgets": {},
     "nuid": "ec64c8cf-27a8-45fe-8780-856f1838efbd",
     "showTitle": false,
     "tableResultSettingsMap": {},
     "title": ""
    }
   },
   "outputs": [],
   "source": [
    "for _, row in incomplete_df.iterrows():\n",
    "    nodeid = row[\"nodeid\"]\n",
    "    filename = f\"{nodeid}.png\"\n",
    "\n",
    "    image_base = row[\"image_wms\"]\n",
    "    if isinstance(image_base, str) and image_base.startswith(\"http\"):\n",
    "        refresh_token_if_needed()\n",
    "        image_url = f\"{image_base}{token}\"\n",
    "        image_out_path = f\"{endepunkt_image_output_dir}/image_{filename}\"\n",
    "\n",
    "        if not os.path.exists(image_out_path) and download_image(\n",
    "            image_url, image_out_path\n",
    "        ):\n",
    "            DeltaTable.forName(spark, nyendepunkt_silver).update(\n",
    "                condition=f\"nodeid = '{nodeid}'\",\n",
    "                set={\"image_status\": lit(\"DOWNLOADED\")},\n",
    "            )"
   ]
  }
 ],
 "metadata": {
  "application/vnd.databricks.v1+notebook": {
   "computePreferences": null,
   "dashboards": [],
   "environmentMetadata": {
    "base_environment": "",
    "environment_version": "2"
   },
   "inputWidgetPreferences": null,
   "language": "python",
   "notebookMetadata": {
    "pythonIndentUnit": 4
   },
   "notebookName": "ASpeedUp2_download_data",
   "widgets": {}
  },
  "language_info": {
   "name": "python"
  }
 },
 "nbformat": 4,
 "nbformat_minor": 0
}
