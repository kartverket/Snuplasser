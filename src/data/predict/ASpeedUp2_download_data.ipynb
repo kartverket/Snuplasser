{
 "cells": [
  {
   "cell_type": "code",
   "execution_count": 0,
   "metadata": {
    "application/vnd.databricks.v1+cell": {
     "cellMetadata": {
      "byteLimit": 2048000,
      "rowLimit": 10000
     },
     "inputWidgets": {},
     "nuid": "9c8087e0-5a62-4222-93e3-89a68ef16ba3",
     "showTitle": false,
     "tableResultSettingsMap": {},
     "title": ""
    }
   },
   "outputs": [],
   "source": [
    "%pip install python-dotenv"
   ]
  },
  {
   "cell_type": "code",
   "execution_count": 0,
   "metadata": {
    "application/vnd.databricks.v1+cell": {
     "cellMetadata": {
      "byteLimit": 2048000,
      "rowLimit": 10000
     },
     "inputWidgets": {},
     "nuid": "14b6804f-3d41-4ce1-b005-a77cb12c2691",
     "showTitle": false,
     "tableResultSettingsMap": {},
     "title": ""
    }
   },
   "outputs": [],
   "source": [
    "import os\n",
    "import time\n",
    "import requests\n",
    "\n",
    "from pyspark.sql import functions as F\n",
    "from pyspark.sql.functions import col, lit\n",
    "from pyspark.sql.types import StringType, ArrayType, DoubleType\n",
    "from delta.tables import DeltaTable\n",
    "\n",
    "from dotenv import load_dotenv\n",
    "\n",
    "from PIL import Image, ImageDraw\n",
    "import numpy as np\n",
    "from shapely.geometry import MultiPolygon, Polygon\n",
    "import ast \n",
    "\n",
    "import geopandas as gpd"
   ]
  },
  {
   "cell_type": "code",
   "execution_count": 0,
   "metadata": {
    "application/vnd.databricks.v1+cell": {
     "cellMetadata": {
      "byteLimit": 2048000,
      "rowLimit": 10000
     },
     "inputWidgets": {},
     "nuid": "7381f9bc-9c31-4633-95ea-be2fff2e6091",
     "showTitle": false,
     "tableResultSettingsMap": {},
     "title": ""
    }
   },
   "outputs": [],
   "source": [
    "IMAGE_SIZE = [512, 512]\n",
    "catalog_dev = \"`land_topografisk-gdb_dev`\"\n",
    "schema_dev = \"ai2025\"\n",
    "spark.sql(f\"USE CATALOG {catalog_dev}\")\n",
    "spark.sql(f\"USE SCHEMA {schema_dev}\")\n",
    "\n",
    "nyendepunkt_silver = \"utenfotottid_nyendepunkt_silver\""
   ]
  },
  {
   "cell_type": "code",
   "execution_count": 0,
   "metadata": {
    "application/vnd.databricks.v1+cell": {
     "cellMetadata": {
      "byteLimit": 2048000,
      "rowLimit": 10000
     },
     "inputWidgets": {},
     "nuid": "e808a177-9881-4b26-a335-0c8339128d05",
     "showTitle": false,
     "tableResultSettingsMap": {},
     "title": ""
    }
   },
   "outputs": [],
   "source": [
    "endepunkt_image_output_dir = \"/Volumes/land_topografisk-gdb_dev/external_dev/static_data/DL_SNUPLASSER/storreendepunkt_images/\"\n",
    "os.makedirs(endepunkt_image_output_dir, exist_ok=True)"
   ]
  },
  {
   "cell_type": "code",
   "execution_count": 0,
   "metadata": {
    "application/vnd.databricks.v1+cell": {
     "cellMetadata": {
      "byteLimit": 2048000,
      "rowLimit": 10000
     },
     "inputWidgets": {},
     "nuid": "d1d409cb-014e-4beb-960c-e8b3d4907b7d",
     "showTitle": false,
     "tableResultSettingsMap": {},
     "title": ""
    }
   },
   "outputs": [],
   "source": [
    "load_dotenv()\n",
    "brukerid = os.getenv(\"GEONORGE_BRUKERID\")\n",
    "passord = os.getenv(\"GEONORGE_PASSORD\")\n",
    "\n",
    "def get_token():\n",
    "    url = (\n",
    "        f\"https://baat.geonorge.no/skbaatts/req?brukerid={brukerid}\"\n",
    "        f\"&passord={passord}&tjenesteid=wms.nib&retformat=s\"\n",
    "    )\n",
    "    raw_token = requests.get(url).text.strip(\"`\")\n",
    "    return raw_token\n",
    "\n",
    "token = get_token()\n",
    "token_start_time = time.time()\n",
    "token_lifetime = 55 * 60  # sekunder\n",
    "\n",
    "def refresh_token_if_needed():\n",
    "    global token, token_start_time\n",
    "    if time.time() - token_start_time > token_lifetime:\n",
    "        print(\"🔄 Fornyer token...\")\n",
    "        token = get_token()\n",
    "        token_start_time = time.time()"
   ]
  },
  {
   "cell_type": "code",
   "execution_count": 0,
   "metadata": {
    "application/vnd.databricks.v1+cell": {
     "cellMetadata": {
      "byteLimit": 2048000,
      "rowLimit": 10000
     },
     "inputWidgets": {},
     "nuid": "30cdc891-9ec9-48f8-ac36-7694fb29d41c",
     "showTitle": false,
     "tableResultSettingsMap": {},
     "title": ""
    }
   },
   "outputs": [],
   "source": [
    "def download_image(url: str, out_path: str, retries: int = 3, backoff: float = 2.0) -> bool:\n",
    "    \"\"\"\n",
    "    Prøver å laste ned et bilde fra en URL og lagrer det lokalt. \n",
    "    Prøver på nytt ved feil, med eksponentiell backoff.\n",
    "    \"\"\"\n",
    "    for attempt in range(1, retries + 1):\n",
    "        try:\n",
    "            r = requests.get(url, timeout=30)\n",
    "            if r.status_code == 200:\n",
    "                with open(out_path, \"wb\") as f:\n",
    "                    f.write(r.content)\n",
    "                return True\n",
    "            else:\n",
    "                print(f\"⚠️ Nedlasting feilet (status {r.status_code}) på forsøk {attempt}\")\n",
    "        except Exception as e:\n",
    "            print(f\"❌ Feil ved nedlasting på forsøk {attempt}: {e}\")\n",
    "        \n",
    "        if attempt < retries:\n",
    "            sleep_time = backoff * attempt  # eksponentiell ventetid\n",
    "            time.sleep(sleep_time)\n",
    "\n",
    "    print(f\"❌ Alle {retries} forsøk mislyktes for {url}\")\n",
    "    return False"
   ]
  },
  {
   "cell_type": "code",
   "execution_count": 0,
   "metadata": {
    "application/vnd.databricks.v1+cell": {
     "cellMetadata": {
      "byteLimit": 2048000,
      "rowLimit": 10000
     },
     "inputWidgets": {},
     "nuid": "7d224657-559f-4373-9882-b66033f101a6",
     "showTitle": false,
     "tableResultSettingsMap": {},
     "title": ""
    }
   },
   "outputs": [],
   "source": [
    "incomplete_df = spark.read.table(nyendepunkt_silver) \\\n",
    "    .filter(\"image_status = 'PENDING'\") \\\n",
    "    .select(\"nodeid\", \"image_wms\") \\\n",
    "    .toPandas()"
   ]
  },
  {
   "cell_type": "code",
   "execution_count": 0,
   "metadata": {
    "application/vnd.databricks.v1+cell": {
     "cellMetadata": {
      "byteLimit": 2048000,
      "rowLimit": 10000
     },
     "inputWidgets": {},
     "nuid": "ec64c8cf-27a8-45fe-8780-856f1838efbd",
     "showTitle": false,
     "tableResultSettingsMap": {},
     "title": ""
    }
   },
   "outputs": [],
   "source": [
    "for _, row in incomplete_df.iterrows():\n",
    "    nodeid = row[\"nodeid\"]\n",
    "    filename = f\"{nodeid}.png\"\n",
    "\n",
    "    image_base = row[\"image_wms\"]\n",
    "    if isinstance(image_base, str) and image_base.startswith(\"http\"):\n",
    "        refresh_token_if_needed()\n",
    "        image_url = f\"{image_base}{token}\"\n",
    "        image_out_path = f\"{endepunkt_image_output_dir}/image_{filename}\"\n",
    "\n",
    "        if not os.path.exists(image_out_path) and download_image(image_url, image_out_path):\n",
    "            DeltaTable.forName(spark, nyendepunkt_silver).update(\n",
    "                condition=f\"nodeid = '{nodeid}'\",\n",
    "                set={\"image_status\": lit(\"DOWNLOADED\")}\n",
    "            )"
   ]
  }
 ],
 "metadata": {
  "application/vnd.databricks.v1+notebook": {
   "computePreferences": null,
   "dashboards": [],
   "environmentMetadata": {
    "base_environment": "",
    "environment_version": "2"
   },
   "inputWidgetPreferences": null,
   "language": "python",
   "notebookMetadata": {
    "pythonIndentUnit": 4
   },
   "notebookName": "ASpeedUp2_download_data",
   "widgets": {}
  },
  "language_info": {
   "name": "python"
  }
 },
 "nbformat": 4,
 "nbformat_minor": 0
}
