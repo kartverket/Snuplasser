{
 "cells": [
  {
   "cell_type": "code",
   "execution_count": 0,
   "metadata": {
    "application/vnd.databricks.v1+cell": {
     "cellMetadata": {
      "byteLimit": 2048000,
      "rowLimit": 10000
     },
     "inputWidgets": {},
     "nuid": "a0c8e18f-e3bb-4c62-af98-dfd3890cb1f3",
     "showTitle": false,
     "tableResultSettingsMap": {},
     "title": ""
    }
   },
   "outputs": [],
   "source": [
    "import geopandas as gpd\n",
    "import pandas as pd\n",
    "from shapely.geometry import Point\n",
    "import shutil\n",
    "import os\n",
    "import requests\n",
    "from typing import Tuple"
   ]
  },
  {
   "cell_type": "code",
   "execution_count": 0,
   "metadata": {
    "application/vnd.databricks.v1+cell": {
     "cellMetadata": {
      "byteLimit": 2048000,
      "rowLimit": 10000
     },
     "inputWidgets": {},
     "nuid": "246e53d1-abbd-49ad-bb5c-1f7469928afe",
     "showTitle": false,
     "tableResultSettingsMap": {},
     "title": ""
    }
   },
   "outputs": [],
   "source": [
    "catalog_dev = \"`land_topografisk-gdb_dev`\"\n",
    "schema_dev = \"ai2025\"\n",
    "spark.sql(f\"USE CATALOG {catalog_dev}\")\n",
    "spark.sql(f\"CREATE SCHEMA IF NOT EXISTS {schema_dev}\")\n",
    "spark.sql(f\"USE SCHEMA {schema_dev}\")\n",
    "predicted_20m = \"predicted_gold_20m\"\n",
    "predicted_25m = \"predicted_gold_25m\"\n",
    "predicted_30m = \"predicted_gold_30m\"\n",
    "predicted_35m = \"predicted_gold_35m\""
   ]
  },
  {
   "cell_type": "code",
   "execution_count": 0,
   "metadata": {
    "application/vnd.databricks.v1+cell": {
     "cellMetadata": {
      "byteLimit": 2048000,
      "rowLimit": 10000
     },
     "inputWidgets": {},
     "nuid": "cdff7895-ea02-4a1e-9080-279c88a6eea1",
     "showTitle": false,
     "tableResultSettingsMap": {},
     "title": ""
    }
   },
   "outputs": [],
   "source": [
    "def get_fylke_and_kommune(north: float, east: float) -> Tuple[int, int]:\n",
    "    \"\"\"Returns the fylke and kommune for a given coordinate\"\"\"\n",
    "    url = f\"https://api.kartverket.no/kommuneinfo/v1/punkt?nord={north}&ost={east}&koordsys=25833\"\n",
    "    response = requests.get(url)\n",
    "    if response.status_code == 200:\n",
    "        data = response.json()\n",
    "        fylke = data.get(\"fylkesnummer\")\n",
    "        kommune = data.get(\"kommunenummer\")\n",
    "        return fylke, kommune\n",
    "    else:\n",
    "        return None, None"
   ]
  },
  {
   "cell_type": "code",
   "execution_count": 0,
   "metadata": {
    "application/vnd.databricks.v1+cell": {
     "cellMetadata": {
      "byteLimit": 2048000,
      "rowLimit": 10000
     },
     "inputWidgets": {},
     "nuid": "d22aa2a1-aad9-41cf-b4b6-aae0de1d93ab",
     "showTitle": false,
     "tableResultSettingsMap": {},
     "title": ""
    }
   },
   "outputs": [],
   "source": [
    "local_gpkg = \"/tmp/predicted.gpkg\"\n",
    "final_gpkg_dir = \"/Volumes/land_topografisk-gdb_dev/external_dev/static_data/DL_SNUPLASSER/geopackages/\"\n",
    "final_gpkg_path = os.path.join(final_gpkg_dir, \"predicted.gpkg\")\n",
    "\n",
    "if os.path.exists(local_gpkg):\n",
    "    os.remove(local_gpkg)\n",
    "\n",
    "def append_layer(table, layer_name, first=False):\n",
    "    df = spark.read.table(table)\n",
    "    pdf = df.toPandas()\n",
    "    pdf['geometry'] = pdf.apply(lambda row: Point(row['centroid_y'], row['centroid_x']), axis=1)\n",
    "    fylke_kommune = pdf.apply(lambda row: get_fylke_and_kommune(row['centroid_y'], row['centroid_x']), axis=1)\n",
    "    pdf['fylke'], pdf['kommune'] = zip(*fylke_kommune)\n",
    "    pdf = pdf.drop(columns=['centroid_x', 'centroid_y'])\n",
    "    gdf = gpd.GeoDataFrame(pdf, geometry='geometry')\n",
    "    gdf.set_crs(epsg=25833, inplace=True)\n",
    "    \n",
    "    mode = \"w\" if first else \"a\"\n",
    "    gdf.to_file(local_gpkg, driver=\"GPKG\", layer=layer_name, mode=mode)\n",
    "\n",
    "append_layer(predicted_20m, \"predicted_20m\", first=True)\n",
    "append_layer(predicted_25m, \"predicted_25m\")\n",
    "append_layer(predicted_30m, \"predicted_30m\")\n",
    "append_layer(predicted_35m, \"predicted_35m\")\n",
    "\n",
    "shutil.move(local_gpkg, final_gpkg_path)"
   ]
  }
 ],
 "metadata": {
  "application/vnd.databricks.v1+notebook": {
   "computePreferences": null,
   "dashboards": [],
   "environmentMetadata": {
    "base_environment": "",
    "environment_version": "2"
   },
   "inputWidgetPreferences": null,
   "language": "python",
   "notebookMetadata": {
    "pythonIndentUnit": 4
   },
   "notebookName": "predicted_to_gpkg",
   "widgets": {}
  },
  "language_info": {
   "name": "python"
  }
 },
 "nbformat": 4,
 "nbformat_minor": 0
}
