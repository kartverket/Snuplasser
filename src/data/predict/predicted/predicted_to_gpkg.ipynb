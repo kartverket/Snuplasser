{
 "cells": [
  {
   "cell_type": "code",
   "execution_count": 0,
   "metadata": {
    "application/vnd.databricks.v1+cell": {
     "cellMetadata": {
      "byteLimit": 2048000,
      "rowLimit": 10000
     },
     "inputWidgets": {},
     "nuid": "a0c8e18f-e3bb-4c62-af98-dfd3890cb1f3",
     "showTitle": false,
     "tableResultSettingsMap": {},
     "title": ""
    }
   },
   "outputs": [],
   "source": [
    "import geopandas as gpd\n",
    "import shutil\n",
    "import os\n",
    "from pyspark.sql.functions import expr"
   ]
  },
  {
   "cell_type": "code",
   "execution_count": 0,
   "metadata": {
    "application/vnd.databricks.v1+cell": {
     "cellMetadata": {
      "byteLimit": 2048000,
      "rowLimit": 10000
     },
     "inputWidgets": {},
     "nuid": "d35501af-f00b-438e-a9d3-61240e3de051",
     "showTitle": false,
     "tableResultSettingsMap": {},
     "title": ""
    }
   },
   "outputs": [],
   "source": [
    "catalog_dev = \"`land_topografisk-gdb_dev`\"\n",
    "schema_dev = \"ai2025\"\n",
    "predicted_gold_table = f\"{catalog_dev}.{schema_dev}.predicted_gold\""
   ]
  },
  {
   "cell_type": "code",
   "execution_count": 0,
   "metadata": {
    "application/vnd.databricks.v1+cell": {
     "cellMetadata": {
      "byteLimit": 2048000,
      "rowLimit": 10000
     },
     "inputWidgets": {},
     "nuid": "92e62e4d-01c8-48a7-b8e9-cbb9cdc16278",
     "showTitle": false,
     "tableResultSettingsMap": {},
     "title": ""
    }
   },
   "outputs": [],
   "source": [
    "catalov_eiendom = \"eiendom_smia_dev\"\n",
    "schema_eiendom = \"admin_enheter_silver\"\n",
    "kommune_table = f\"{catalov_eiendom}.{schema_eiendom}.kommune\"\n",
    "fylke_table = f\"{catalov_eiendom}.{schema_eiendom}.fylke\"\n",
    "srid = 25833"
   ]
  },
  {
   "cell_type": "code",
   "execution_count": 0,
   "metadata": {
    "application/vnd.databricks.v1+cell": {
     "cellMetadata": {
      "byteLimit": 2048000,
      "rowLimit": 10000
     },
     "inputWidgets": {},
     "nuid": "40b3265d-c910-4cdf-b2d0-5e37f4472242",
     "showTitle": false,
     "tableResultSettingsMap": {},
     "title": ""
    }
   },
   "outputs": [],
   "source": [
    "def get_kommune_and_fylke():\n",
    "    \"\"\"\n",
    "    Returnerer en Spark DataFrame med kolonner 'kommunenummer', 'kommunenavn', 'fylkesnummer', 'fylkesnavn'.\n",
    "    \"\"\"\n",
    "    predicted_gold_df = spark.read.table(predicted_gold_table)\n",
    "    kom_df = spark.read.table(kommune_table).withColumn(\n",
    "        \"kom_geom\", expr(f\"ST_SetSRID(ST_GeomFromWKB(geometry), {srid})\")\n",
    "    )\n",
    "    fylke_df = spark.read.table(fylke_table)\n",
    "\n",
    "    predicted_gold_df.createOrReplaceTempView(\"predicted\")\n",
    "    kom_df.createOrReplaceTempView(\"kommune\")\n",
    "    fylke_df.createOrReplaceTempView(\"fylke\")\n",
    "\n",
    "    joined_df = spark.sql(\n",
    "        \"\"\"\n",
    "        SELECT p.*, poly_k.kommunenummer,  poly_k.kommunenavn, poly_f.fylkesnummer, poly_f.fylkesnavn\n",
    "        FROM predicted p, kommune poly_k, fylke poly_f\n",
    "        WHERE ST_Contains(poly_k.kom_geom, p.geometry)\n",
    "        AND poly_f.fylkesnummer = LEFT(poly_k.kommunenummer, 2)\n",
    "    \"\"\"\n",
    "    )\n",
    "\n",
    "    return joined_df"
   ]
  },
  {
   "cell_type": "code",
   "execution_count": 0,
   "metadata": {
    "application/vnd.databricks.v1+cell": {
     "cellMetadata": {
      "byteLimit": 2048000,
      "rowLimit": 10000
     },
     "inputWidgets": {},
     "nuid": "f783b5ed-80fe-4ca6-827a-a82421ff1c58",
     "showTitle": false,
     "tableResultSettingsMap": {},
     "title": ""
    }
   },
   "outputs": [],
   "source": [
    "def to_geopackage():\n",
    "    \"\"\"\n",
    "    Lagrer GeoDataFrame til GeoPackage-fil.\n",
    "    \"\"\"\n",
    "    local_gpkg = os.path.join(os.getcwd(), \"predicted.gpkg\")\n",
    "    final_gpkg_dir = \"/Volumes/land_topografisk-gdb_dev/external_dev/static_data/DL_SNUPLASSER/geopackages/\"\n",
    "    final_gpkg_path = os.path.join(final_gpkg_dir, \"predicted.gpkg\")\n",
    "\n",
    "    joined_df = get_kommune_and_fylke()\n",
    "    pdf = joined_df.toPandas()\n",
    "    gdf = gpd.GeoDataFrame(pdf, geometry='geometry')\n",
    "    gdf.set_crs(epsg=25833, inplace=True)\n",
    "\n",
    "    categories = gdf['category'].unique() # 20-25m, 25-30m, 30-35m, 35m+\n",
    "\n",
    "    for i, cat in enumerate(categories):\n",
    "        layer_name = f\"predicted_{cat}\"\n",
    "\n",
    "        mode = \"w\" if i == 0 else \"a\"\n",
    "\n",
    "        gdf[gdf['category'] == cat].to_file(\n",
    "            local_gpkg,\n",
    "            driver=\"GPKG\",\n",
    "            layer=layer_name,\n",
    "            mode=mode\n",
    "        )\n",
    "\n",
    "    # Kopierer fra lokalt til katalogen\n",
    "    shutil.copyfile(local_gpkg, final_gpkg_path)\n",
    "\n",
    "    # Sletter lokal fil\n",
    "    os.remove(local_gpkg)"
   ]
  },
  {
   "cell_type": "code",
   "execution_count": 0,
   "metadata": {
    "application/vnd.databricks.v1+cell": {
     "cellMetadata": {
      "byteLimit": 2048000,
      "rowLimit": 10000
     },
     "inputWidgets": {},
     "nuid": "6ea889f2-02ea-4cc0-a5a5-a5beefb2c19f",
     "showTitle": false,
     "tableResultSettingsMap": {},
     "title": ""
    }
   },
   "outputs": [],
   "source": [
    "to_geopackage()"
   ]
  }
 ],
 "metadata": {
  "application/vnd.databricks.v1+notebook": {
   "computePreferences": null,
   "dashboards": [],
   "environmentMetadata": {
    "base_environment": "",
    "environment_version": "2"
   },
   "inputWidgetPreferences": null,
   "language": "python",
   "notebookMetadata": {
    "pythonIndentUnit": 4
   },
   "notebookName": "predicted_to_gpkg",
   "widgets": {}
  },
  "language_info": {
   "name": "python"
  }
 },
 "nbformat": 4,
 "nbformat_minor": 0
}
