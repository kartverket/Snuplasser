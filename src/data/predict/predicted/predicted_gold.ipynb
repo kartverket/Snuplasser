{
 "cells": [
  {
   "cell_type": "code",
   "execution_count": 0,
   "metadata": {
    "application/vnd.databricks.v1+cell": {
     "cellMetadata": {
      "byteLimit": 2048000,
      "rowLimit": 10000
     },
     "inputWidgets": {},
     "nuid": "71b0ea24-46cf-4aa4-9da2-84aa98e35db6",
     "showTitle": false,
     "tableResultSettingsMap": {},
     "title": ""
    }
   },
   "outputs": [],
   "source": [
    "from pyspark.sql.functions import *\n",
    "from pyspark.sql import DataFrame\n",
    "from delta.tables import DeltaTable"
   ]
  },
  {
   "cell_type": "code",
   "execution_count": 0,
   "metadata": {
    "application/vnd.databricks.v1+cell": {
     "cellMetadata": {
      "byteLimit": 2048000,
      "rowLimit": 10000
     },
     "inputWidgets": {},
     "nuid": "20e79026-6cc6-4c45-9063-88a03fff41ba",
     "showTitle": false,
     "tableResultSettingsMap": {},
     "title": ""
    }
   },
   "outputs": [],
   "source": [
    "catalog_dev = \"`land_topografisk-gdb_dev`\"\n",
    "schema_dev = \"ai2025\"\n",
    "spark.sql(f\"USE CATALOG {catalog_dev}\")\n",
    "spark.sql(f\"CREATE SCHEMA IF NOT EXISTS {schema_dev}\")\n",
    "spark.sql(f\"USE SCHEMA {schema_dev}\")\n",
    "log_table = \"logs_predicted_masks\"\n",
    "silver_table = \"predicted_silver\"\n",
    "gold_table = \"predicted_gold\""
   ]
  },
  {
   "cell_type": "code",
   "execution_count": 0,
   "metadata": {
    "application/vnd.databricks.v1+cell": {
     "cellMetadata": {
      "byteLimit": 2048000,
      "rowLimit": 10000
     },
     "inputWidgets": {},
     "nuid": "08433166-00c8-4a41-97ac-7d6cdb25a89b",
     "showTitle": false,
     "tableResultSettingsMap": {},
     "title": ""
    }
   },
   "outputs": [],
   "source": [
    "df_silver = spark.read.table(silver_table)\n",
    "\n",
    "df_geom = df_silver.withColumn(\n",
    "    \"geometry\",\n",
    "    expr(\"ST_Point(centroid_x, centroid_y)\")\n",
    ") # Lager en punktgeometri fra koordinatene\n",
    "df_geom = df_geom.drop('centroid_x', 'centroid_y')\n",
    "\n",
    "df_category = df_geom.withColumn(\n",
    "    \"category\",\n",
    "    when((col(\"diameter\") >= 20) & (col(\"diameter\") < 25), \"20-25\")\n",
    "    .when((col(\"diameter\") >= 25) & (col(\"diameter\") < 30), \"25-30\")\n",
    "    .when((col(\"diameter\") >= 30) & (col(\"diameter\") < 35), \"30-35\")\n",
    "    .when(col(\"diameter\") >= 35, \"35+\"),\n",
    ") # Kategoriserer basert på diameter\n",
    "df_category = df_category.filter(col(\"category\").isNotNull())"
   ]
  },
  {
   "cell_type": "code",
   "execution_count": 0,
   "metadata": {
    "application/vnd.databricks.v1+cell": {
     "cellMetadata": {
      "byteLimit": 2048000,
      "rowLimit": 10000
     },
     "inputWidgets": {},
     "nuid": "6d28092f-82fc-4b02-87e2-52ad665679ce",
     "showTitle": false,
     "tableResultSettingsMap": {},
     "title": ""
    }
   },
   "outputs": [],
   "source": [
    "def write_delta_table(sdf: DataFrame):\n",
    "    \"\"\"\n",
    "    Skriver data til deltatabellen og opdaterer dersom den row_hash allerede finnes.\n",
    "    \"\"\"\n",
    "    if not spark.catalog.tableExists(gold_table):\n",
    "        sdf.write.format(\"delta\").option(\"mergeSchema\", \"true\").mode(\"overwrite\").saveAsTable(gold_table)\n",
    "    else:\n",
    "        delta_tbl = DeltaTable.forName(spark, gold_table)\n",
    "        delta_tbl.alias(\"target\").merge(\n",
    "                    source=sdf.alias(\"source\"),\n",
    "                    condition=\"target.row_hash = source.row_hash\"\n",
    "                ).whenMatchedUpdate(\n",
    "                    condition=\"target.row_hash != source.row_hash\",\n",
    "                    set={col: f\"source.{col}\" for col in sdf.columns}\n",
    "                ).whenNotMatchedInsert(\n",
    "                    values={col: f\"source.{col}\" for col in sdf.columns}\n",
    "                ).execute()"
   ]
  },
  {
   "cell_type": "code",
   "execution_count": 0,
   "metadata": {
    "application/vnd.databricks.v1+cell": {
     "cellMetadata": {
      "byteLimit": 2048000,
      "rowLimit": 10000
     },
     "inputWidgets": {},
     "nuid": "302bf7e4-6435-40d8-a881-ba159d5bd58b",
     "showTitle": false,
     "tableResultSettingsMap": {},
     "title": ""
    }
   },
   "outputs": [],
   "source": [
    "write_delta_table(df_category)"
   ]
  }
 ],
 "metadata": {
  "application/vnd.databricks.v1+notebook": {
   "computePreferences": null,
   "dashboards": [],
   "environmentMetadata": {
    "base_environment": "",
    "environment_version": "2"
   },
   "inputWidgetPreferences": null,
   "language": "python",
   "notebookMetadata": {
    "pythonIndentUnit": 4
   },
   "notebookName": "predicted_gold",
   "widgets": {}
  },
  "language_info": {
   "name": "python"
  }
 },
 "nbformat": 4,
 "nbformat_minor": 0
}
