{
 "cells": [
  {
   "cell_type": "code",
   "execution_count": 0,
   "metadata": {
    "application/vnd.databricks.v1+cell": {
     "cellMetadata": {
      "byteLimit": 2048000,
      "rowLimit": 10000
     },
     "inputWidgets": {},
     "nuid": "45af5fb7-2ca1-4aa7-ba1a-37b94240304e",
     "showTitle": false,
     "tableResultSettingsMap": {},
     "title": ""
    }
   },
   "outputs": [],
   "source": [
    "from pyspark.sql import functions as F"
   ]
  },
  {
   "cell_type": "code",
   "execution_count": 0,
   "metadata": {
    "application/vnd.databricks.v1+cell": {
     "cellMetadata": {
      "byteLimit": 2048000,
      "rowLimit": 10000
     },
     "inputWidgets": {},
     "nuid": "c7d03a7a-8065-4ad4-9a4b-48b1e07e13ff",
     "showTitle": false,
     "tableResultSettingsMap": {},
     "title": ""
    }
   },
   "outputs": [],
   "source": [
    "catalog_dev = \"`land_topografisk-gdb_dev`\"\n",
    "schema_dev = \"ai2025\"\n",
    "\n",
    "spark.sql(f\"USE CATALOG {catalog_dev}\")\n",
    "spark.sql(f\"CREATE SCHEMA IF NOT EXISTS {schema_dev}\")\n",
    "spark.sql(f\"USE SCHEMA {schema_dev}\")\n",
    "\n",
    "poly_over_tbl = \"polygons_status_overview\"\n",
    "us_over_tbl = \"utensnuplass_status_overview\"\n",
    "\n",
    "df_all = spark.read.table(poly_over_tbl)\n",
    "df_no = spark.read.table(us_over_tbl)"
   ]
  },
  {
   "cell_type": "code",
   "execution_count": 0,
   "metadata": {
    "application/vnd.databricks.v1+cell": {
     "cellMetadata": {
      "byteLimit": 2048000,
      "rowLimit": 10000
     },
     "inputWidgets": {},
     "nuid": "ffd758bc-b69a-41e5-a1d7-841fe19cf076",
     "showTitle": false,
     "tableResultSettingsMap": {},
     "title": ""
    }
   },
   "outputs": [],
   "source": [
    "df_yes = df_all.join(\n",
    "    df_no.select(\"row_hash\"), on=\"row_hash\", how=\"left_anti\"\n",
    ")  # Lager en tabell med bilder både med og uten snuplass\n",
    "count_no = df_no.count()\n",
    "count_yes = df_yes.count()\n",
    "\n",
    "p_no = 0.05\n",
    "total_desired = count_no + count_yes\n",
    "desired_no = int(total_desired * p_no)\n",
    "desired_yes = total_desired - desired_no\n",
    "\n",
    "df_no_sampled = df_no.orderBy(F.rand()).limit(desired_no)\n",
    "df_yes_sampled = df_yes.orderBy(F.rand()).limit(desired_yes)\n",
    "\n",
    "df_train = df_no_sampled.union(df_yes_sampled)\n",
    "df_train.write.format(\"delta\").mode(\"overwrite\").option(\n",
    "    \"mergeSchema\", \"true\"\n",
    ").saveAsTable(\"train_silver\")"
   ]
  }
 ],
 "metadata": {
  "application/vnd.databricks.v1+notebook": {
   "computePreferences": null,
   "dashboards": [],
   "environmentMetadata": {
    "base_environment": "",
    "environment_version": "2"
   },
   "inputWidgetPreferences": null,
   "language": "python",
   "notebookMetadata": {
    "pythonIndentUnit": 4
   },
   "notebookName": "train_silver",
   "widgets": {}
  },
  "language_info": {
   "name": "python"
  }
 },
 "nbformat": 4,
 "nbformat_minor": 0
}
