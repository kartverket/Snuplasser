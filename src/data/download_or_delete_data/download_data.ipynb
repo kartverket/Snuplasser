{
 "cells": [
  {
   "cell_type": "code",
   "execution_count": 0,
   "metadata": {
    "application/vnd.databricks.v1+cell": {
     "cellMetadata": {
      "byteLimit": 2048000,
      "rowLimit": 10000
     },
     "inputWidgets": {},
     "nuid": "9c8087e0-5a62-4222-93e3-89a68ef16ba3",
     "showTitle": false,
     "tableResultSettingsMap": {},
     "title": ""
    }
   },
   "outputs": [],
   "source": [
    "%pip install python-dotenv"
   ]
  },
  {
   "cell_type": "code",
   "execution_count": 0,
   "metadata": {
    "application/vnd.databricks.v1+cell": {
     "cellMetadata": {
      "byteLimit": 2048000,
      "rowLimit": 10000
     },
     "inputWidgets": {},
     "nuid": "14b6804f-3d41-4ce1-b005-a77cb12c2691",
     "showTitle": false,
     "tableResultSettingsMap": {},
     "title": ""
    }
   },
   "outputs": [],
   "source": [
    "import os\n",
    "import time\n",
    "import requests\n",
    "import geopandas as gpd\n",
    "from PIL import Image, ImageDraw\n",
    "import numpy as np\n",
    "import ast \n",
    "from dotenv import load_dotenv\n",
    "from shapely.geometry import MultiPolygon, Polygon\n",
    "from pyspark.sql.functions import col, lit\n",
    "from delta.tables import DeltaTable"
   ]
  },
  {
   "cell_type": "code",
   "execution_count": 0,
   "metadata": {
    "application/vnd.databricks.v1+cell": {
     "cellMetadata": {
      "byteLimit": 2048000,
      "rowLimit": 10000
     },
     "inputWidgets": {},
     "nuid": "7381f9bc-9c31-4633-95ea-be2fff2e6091",
     "showTitle": false,
     "tableResultSettingsMap": {},
     "title": ""
    }
   },
   "outputs": [],
   "source": [
    "IMAGE_SIZE = [512, 512]\n",
    "catalog_dev = \"`land_topografisk-gdb_dev`\"\n",
    "schema_dev = \"ai2025\"\n",
    "spark.sql(f\"USE CATALOG {catalog_dev}\")\n",
    "spark.sql(f\"USE SCHEMA {schema_dev}\")\n",
    "silver_table = \"polygons_silver\"\n",
    "endepunkt_silver = \"endepunkt_silver\"\n",
    "utensnuplass_silver = \"utenSnuplass_silver\""
   ]
  },
  {
   "cell_type": "code",
   "execution_count": 0,
   "metadata": {
    "application/vnd.databricks.v1+cell": {
     "cellMetadata": {
      "byteLimit": 2048000,
      "rowLimit": 10000
     },
     "inputWidgets": {},
     "nuid": "e808a177-9881-4b26-a335-0c8339128d05",
     "showTitle": false,
     "tableResultSettingsMap": {},
     "title": ""
    }
   },
   "outputs": [],
   "source": [
    "dom_output_dir = \"/Volumes/land_topografisk-gdb_dev/external_dev/static_data/DL_SNUPLASSER/doms/\"\n",
    "image_output_dir = \"/Volumes/land_topografisk-gdb_dev/external_dev/static_data/DL_SNUPLASSER/images/\"\n",
    "mask_dir = \"/Volumes/land_topografisk-gdb_dev/external_dev/static_data/DL_SNUPLASSER/labels/\"\n",
    "os.makedirs(dom_output_dir, exist_ok=True)\n",
    "os.makedirs(image_output_dir, exist_ok=True)\n",
    "os.makedirs(mask_dir, exist_ok=True)\n",
    "\n",
    "endepunkt_dom_output_dir = \"/Volumes/land_topografisk-gdb_dev/external_dev/static_data/DL_SNUPLASSER/endepunkt_dom/\"\n",
    "endepunkt_image_output_dir = \"/Volumes/land_topografisk-gdb_dev/external_dev/static_data/DL_SNUPLASSER/endepunkt_images/\"\n",
    "os.makedirs(endepunkt_dom_output_dir, exist_ok=True)\n",
    "os.makedirs(endepunkt_image_output_dir, exist_ok=True)\n",
    "\n",
    "utensnuplass_dom_output_dir = \"/Volumes/land_topografisk-gdb_dev/external_dev/static_data/DL_SNUPLASSER/utenSdom/\"\n",
    "utensnuplass_image_output_dir = \"/Volumes/land_topografisk-gdb_dev/external_dev/static_data/DL_SNUPLASSER/utenSimage/\"\n",
    "utensnuplass_mask_dir = \"/Volumes/land_topografisk-gdb_dev/external_dev/static_data/DL_SNUPLASSER/utenSlabel/\"\n",
    "os.makedirs(utensnuplass_dom_output_dir, exist_ok=True)\n",
    "os.makedirs(utensnuplass_image_output_dir, exist_ok=True)\n",
    "os.makedirs(utensnuplass_mask_dir, exist_ok=True)\n",
    "\n",
    "nysnuplass_dom_output_dir = \"/Volumes/land_topografisk-gdb_dev/external_dev/static_data/DL_SNUPLASSER/storredom/\"\n",
    "nysnuplass_image_output_dir = \"/Volumes/land_topografisk-gdb_dev/external_dev/static_data/DL_SNUPLASSER/storreimage/\"\n",
    "nysnuplass_mask_dir = \"/Volumes/land_topografisk-gdb_dev/external_dev/static_data/DL_SNUPLASSER/storrelabel/\"\n",
    "os.makedirs(nysnuplass_dom_output_dir, exist_ok=True)\n",
    "os.makedirs(nysnuplass_image_output_dir, exist_ok=True)\n",
    "os.makedirs(nysnuplass_mask_dir, exist_ok=True)"
   ]
  },
  {
   "cell_type": "code",
   "execution_count": 0,
   "metadata": {
    "application/vnd.databricks.v1+cell": {
     "cellMetadata": {
      "byteLimit": 2048000,
      "rowLimit": 10000
     },
     "inputWidgets": {},
     "nuid": "d1d409cb-014e-4beb-960c-e8b3d4907b7d",
     "showTitle": false,
     "tableResultSettingsMap": {},
     "title": ""
    }
   },
   "outputs": [],
   "source": [
    "load_dotenv()\n",
    "brukerid = os.getenv(\"GEONORGE_BRUKERID\")\n",
    "passord = os.getenv(\"GEONORGE_PASSORD\")\n",
    "\n",
    "\n",
    "def get_token():\n",
    "    url = (\n",
    "        f\"https://baat.geonorge.no/skbaatts/req?brukerid={brukerid}\"\n",
    "        f\"&passord={passord}&tjenesteid=wms.nib&retformat=s\"\n",
    "    )\n",
    "    raw_token = requests.get(url).text.strip(\"`\")\n",
    "    return raw_token\n",
    "\n",
    "\n",
    "token = get_token()\n",
    "token_start_time = time.time()\n",
    "token_lifetime = 55 * 60  # sekunder\n",
    "\n",
    "\n",
    "def refresh_token_if_needed():\n",
    "    global token, token_start_time\n",
    "    if time.time() - token_start_time > token_lifetime:\n",
    "        print(\"🔄 Fornyer token...\")\n",
    "        token = get_token()\n",
    "        token_start_time = time.time()"
   ]
  },
  {
   "cell_type": "code",
   "execution_count": 0,
   "metadata": {
    "application/vnd.databricks.v1+cell": {
     "cellMetadata": {
      "byteLimit": 2048000,
      "rowLimit": 10000
     },
     "inputWidgets": {},
     "nuid": "5acf360f-326d-4445-bacb-e52387db4133",
     "showTitle": false,
     "tableResultSettingsMap": {},
     "title": ""
    }
   },
   "outputs": [],
   "source": [
    "def generate_binary_mask(geom, out_path, bbox, width=512, height=512):\n",
    "    \"\"\"\n",
    "    Lager en binær maske basert på en geometri (Polygon eller MultiPolygon)\n",
    "    og lagrer den som PNG. BBOX må alltid oppgis, og tolkes som koordinatramme.\n",
    "    \"\"\"\n",
    "\n",
    "    try:\n",
    "        if not isinstance(bbox, (list, tuple)) or len(bbox) != 4:\n",
    "            print(f\"❌ Ugyldig bbox: {bbox}\")\n",
    "            return False\n",
    "\n",
    "        minx, miny, maxx, maxy = bbox\n",
    "        assert maxx > minx and maxy > miny\n",
    "\n",
    "        mask = Image.new(\"L\", (width, height), 0)\n",
    "        draw = ImageDraw.Draw(mask)\n",
    "\n",
    "        def world_to_pixel(x, y):\n",
    "            px = int((x - minx) / (maxx - minx) * width)\n",
    "            py = int((maxy - y) / (maxy - miny) * height)\n",
    "            return (px, py)\n",
    "\n",
    "        def draw_single_polygon(polygon):\n",
    "            exterior = [world_to_pixel(x, y) for x, y in polygon.exterior.coords]\n",
    "            draw.polygon(exterior, outline=255, fill=255)\n",
    "\n",
    "        # Håndter geometri\n",
    "        if isinstance(geom, Polygon):\n",
    "            draw_single_polygon(geom)\n",
    "        elif isinstance(geom, MultiPolygon):\n",
    "            for poly in geom.geoms:\n",
    "                draw_single_polygon(poly)\n",
    "        else:\n",
    "            print(f\"⚠️ Ukjent geometritype: {type(geom)}\")\n",
    "            return False\n",
    "\n",
    "        mask.save(out_path)\n",
    "        return True\n",
    "\n",
    "    except Exception as e:\n",
    "        print(f\"❌ Feil ved maskegenerering: {e}\")\n",
    "        return False"
   ]
  },
  {
   "cell_type": "code",
   "execution_count": 0,
   "metadata": {
    "application/vnd.databricks.v1+cell": {
     "cellMetadata": {
      "byteLimit": 2048000,
      "rowLimit": 10000
     },
     "inputWidgets": {},
     "nuid": "30cdc891-9ec9-48f8-ac36-7694fb29d41c",
     "showTitle": false,
     "tableResultSettingsMap": {},
     "title": ""
    }
   },
   "outputs": [],
   "source": [
    "def download_image(\n",
    "    url: str, out_path: str, retries: int = 3, backoff: float = 2.0\n",
    ") -> bool:\n",
    "    \"\"\"\n",
    "    Prøver å laste ned et bilde fra en URL og lagrer det lokalt.\n",
    "    Prøver på nytt ved feil, med eksponentiell backoff.\n",
    "    \"\"\"\n",
    "    for attempt in range(1, retries + 1):\n",
    "        try:\n",
    "            r = requests.get(url, timeout=30)\n",
    "            if r.status_code == 200:\n",
    "                with open(out_path, \"wb\") as f:\n",
    "                    f.write(r.content)\n",
    "                return True\n",
    "            else:\n",
    "                print(\n",
    "                    f\"⚠️ Nedlasting feilet (status {r.status_code}) på forsøk {attempt}\"\n",
    "                )\n",
    "        except Exception as e:\n",
    "            print(f\"❌ Feil ved nedlasting på forsøk {attempt}: {e}\")\n",
    "\n",
    "        if attempt < retries:\n",
    "            sleep_time = backoff * attempt  # eksponentiell ventetid\n",
    "            time.sleep(sleep_time)\n",
    "\n",
    "    print(f\"❌ Alle {retries} forsøk mislyktes for {url}\")\n",
    "    return False"
   ]
  },
  {
   "cell_type": "code",
   "execution_count": 0,
   "metadata": {
    "application/vnd.databricks.v1+cell": {
     "cellMetadata": {
      "byteLimit": 2048000,
      "rowLimit": 10000
     },
     "inputWidgets": {},
     "nuid": "bfbc415b-bc0d-4205-960b-3c1f9586fa34",
     "showTitle": false,
     "tableResultSettingsMap": {},
     "title": ""
    }
   },
   "outputs": [],
   "source": [
    "# Hjelpefunksjon for utensnuplass-tabellen\n",
    "\"\"\"\n",
    "def generate_blank_mask(id: str, save_dir: str = \"/Volumes/land_topografisk-gdb_dev/external_dev/static_data/DL_SNUPLASSER/utenSlabel\"):\n",
    "   \n",
    "    #Generates a blank mask image for a given ID and saves it to the specified directory.\n",
    "   \n",
    "    os.makedirs(save_dir, exist_ok=True)\n",
    "    file_path = os.path.join(save_dir, f\"mask_{id}.png\") \n",
    "    mask = Image.new(\"L\", (512, 512), color=0)\n",
    "    mask.save(file_path)\n",
    "    return  True \"\"\""
   ]
  },
  {
   "cell_type": "code",
   "execution_count": 0,
   "metadata": {
    "application/vnd.databricks.v1+cell": {
     "cellMetadata": {
      "byteLimit": 2048000,
      "rowLimit": 10000
     },
     "inputWidgets": {},
     "nuid": "52ceb975-f44a-4f6c-afbf-f5ef863b2d27",
     "showTitle": false,
     "tableResultSettingsMap": {},
     "title": ""
    }
   },
   "outputs": [],
   "source": [
    "def parse_bbox(value):\n",
    "    if value is None or (isinstance(value, float) and np.isnan(value)):\n",
    "        raise ValueError(\"Verdi er tom eller NaN\")\n",
    "    if isinstance(value, str):\n",
    "        value = ast.literal_eval(value)\n",
    "    if isinstance(value, (list, tuple, np.ndarray)) and len(value) == 4:\n",
    "        return tuple(float(v) for v in value)"
   ]
  },
  {
   "cell_type": "code",
   "execution_count": 0,
   "metadata": {
    "application/vnd.databricks.v1+cell": {
     "cellMetadata": {
      "byteLimit": 2048000,
      "rowLimit": 10000
     },
     "inputWidgets": {},
     "nuid": "7d224657-559f-4373-9882-b66033f101a6",
     "showTitle": false,
     "tableResultSettingsMap": {},
     "title": ""
    }
   },
   "outputs": [],
   "source": [
    "incomplete_df = (\n",
    "    spark.read.table(nysnuplass_silver)\n",
    "    .filter(\"dom_status = 'PENDING' OR image_status = 'PENDING'\")\n",
    "    .select(\"row_hash\", \"dom_wms\", \"image_wms\")\n",
    "    .toPandas()\n",
    ")"
   ]
  },
  {
   "cell_type": "code",
   "execution_count": 0,
   "metadata": {
    "application/vnd.databricks.v1+cell": {
     "cellMetadata": {
      "byteLimit": 2048000,
      "rowLimit": 10000
     },
     "inputWidgets": {},
     "nuid": "ec64c8cf-27a8-45fe-8780-856f1838efbd",
     "showTitle": false,
     "tableResultSettingsMap": {},
     "title": ""
    }
   },
   "outputs": [],
   "source": [
    "for _, row in incomplete_df.iterrows():\n",
    "    row_hash = row[\"row_hash\"]\n",
    "    filename = f\"{row_hash}.png\"\n",
    "\n",
    "    # Last ned DOM om nødvendig\n",
    "    dom_url = row[\"dom_wms\"]\n",
    "    dom_out_path = f\"{nysnuplass_dom_output_dir}/dom_{filename}\"\n",
    "\n",
    "    if not os.path.exists(dom_out_path) and download_image(dom_url, dom_out_path):\n",
    "        DeltaTable.forName(spark, nysnuplass_silver).update(\n",
    "            condition=f\"row_hash = '{row_hash}'\", set={\"dom_status\": lit(\"DOWNLOADED\")}\n",
    "        )\n",
    "\n",
    "    # Last ned ortofoto om nødvendig\n",
    "    image_base = row[\"image_wms\"]\n",
    "    if isinstance(image_base, str) and image_base.startswith(\"http\"):\n",
    "        refresh_token_if_needed()\n",
    "        image_url = f\"{image_base}{token}\"\n",
    "        image_out_path = f\"{nysnuplass_image_output_dir}/image_{filename}\"\n",
    "\n",
    "        if not os.path.exists(image_out_path) and download_image(\n",
    "            image_url, image_out_path\n",
    "        ):\n",
    "            DeltaTable.forName(spark, nysnuplass_silver).update(\n",
    "                condition=f\"row_hash = '{row_hash}'\",\n",
    "                set={\"image_status\": lit(\"DOWNLOADED\")},\n",
    "            )\n",
    "\n",
    "    try:\n",
    "        if generate_blank_mask(row_hash):\n",
    "            DeltaTable.forName(spark, utensnuplass_silver).update(\n",
    "                condition=f\"row_hash = '{row_hash}'\",\n",
    "                set={\"mask_status\": lit(\"DOWNLOADED\")},\n",
    "            )\n",
    "    except Exception as e:\n",
    "        print(f\"Feil ved opprettelse av mask for {row_hash}: {e}\")"
   ]
  },
  {
   "cell_type": "code",
   "execution_count": 0,
   "metadata": {
    "application/vnd.databricks.v1+cell": {
     "cellMetadata": {
      "byteLimit": 2048000,
      "rowLimit": 10000
     },
     "inputWidgets": {},
     "nuid": "5195c5b6-32c0-42d0-8eb1-ef9101596e75",
     "showTitle": false,
     "tableResultSettingsMap": {},
     "title": ""
    }
   },
   "outputs": [],
   "source": [
    "# Bruk kun rader hvor DOM og ortofoto er klart, men maskestatus fortsatt er PENDING\n",
    "mask_pending_df = (\n",
    "    spark.read.table(nysnuplass_silver)\n",
    "    .filter(\n",
    "        \"dom_status = 'DOWNLOADED' AND image_status = 'DOWNLOADED' AND mask_status = 'PENDING'\"\n",
    "    )\n",
    "    .select(\"row_hash\", \"dom_wms\", \"image_wms\", \"Adjusted_bbox\", \"bbox\", \"geometry\")\n",
    "    .toPandas()\n",
    ")\n",
    "\n",
    "# Konverter til GeoDataFrame\n",
    "gdf = gpd.GeoDataFrame(mask_pending_df, geometry=\"geometry\", crs=\"EPSG:25833\")"
   ]
  },
  {
   "cell_type": "code",
   "execution_count": 0,
   "metadata": {
    "application/vnd.databricks.v1+cell": {
     "cellMetadata": {
      "byteLimit": 2048000,
      "rowLimit": 10000
     },
     "inputWidgets": {},
     "nuid": "cf2428f8-6427-4c78-b860-3723750fa7f6",
     "showTitle": false,
     "tableResultSettingsMap": {},
     "title": ""
    }
   },
   "outputs": [],
   "source": [
    "# GENERER MASKER\n",
    "for _, row in gdf.iterrows():\n",
    "    row_hash = row[\"row_hash\"]\n",
    "    filename = f\"{row_hash}.png\"\n",
    "    out_path = f\"{nysnuplass_mask_dir}/mask_{filename}\"\n",
    "\n",
    "    # Prøv først Adjusted_bbox, så fallback til bbox\n",
    "    try:\n",
    "        bbox = None\n",
    "        if \"Adjusted_bbox\" in row and row[\"Adjusted_bbox\"] is not None:\n",
    "            bbox = parse_bbox(row[\"Adjusted_bbox\"])\n",
    "        elif \"bbox\" in row and row[\"bbox\"] is not None:\n",
    "            bbox = parse_bbox(row[\"bbox\"])\n",
    "        else:\n",
    "            print(f\"❌ Mangler gyldig bbox for {row_hash}\")\n",
    "            continue\n",
    "    except Exception as e:\n",
    "        print(f\"❌ Feil ved parsing av bbox for {row_hash}: {e}\")\n",
    "        continue\n",
    "\n",
    "    # Generer binærmaske\n",
    "    success = generate_binary_mask(row[\"geometry\"], out_path, bbox)\n",
    "    if success:\n",
    "        DeltaTable.forName(spark, nysnuplass_silver).update(\n",
    "            condition=f\"row_hash = '{row_hash}'\", set={\"mask_status\": lit(\"GENERATED\")}\n",
    "        )\n",
    "        print(f\"✅ Maske generert for {row_hash}\")\n",
    "    else:\n",
    "        print(f\"⚠️ Maske-generering feilet for {row_hash}\")"
   ]
  },
  {
   "cell_type": "code",
   "execution_count": 0,
   "metadata": {
    "application/vnd.databricks.v1+cell": {
     "cellMetadata": {
      "byteLimit": 2048000,
      "rowLimit": 10000
     },
     "inputWidgets": {},
     "nuid": "ae073f4e-13c3-4558-a60b-5f1626ffa0a9",
     "showTitle": false,
     "tableResultSettingsMap": {},
     "title": ""
    }
   },
   "outputs": [],
   "source": [
    "df = spark.read.table(nysnuplass_silver)\n",
    "\n",
    "fullferdig = df.filter(\n",
    "    (col(\"dom_status\") == \"DOWNLOADED\")\n",
    "    & (col(\"image_status\") == \"DOWNLOADED\")\n",
    "    & (col(\"mask_status\") == \"GENERATED\")\n",
    ").count()\n",
    "\n",
    "klar_for_mask = df.filter(\n",
    "    (col(\"dom_status\") == \"DOWNLOADED\")\n",
    "    & (col(\"image_status\") == \"DOWNLOADED\")\n",
    "    & (col(\"mask_status\") != \"GENERATED\")\n",
    ").count()\n",
    "\n",
    "bare_dom = df.filter(\n",
    "    (col(\"dom_status\") == \"DOWNLOADED\") & (col(\"image_status\") != \"DOWNLOADED\")\n",
    ").count()\n",
    "\n",
    "bare_image = df.filter(\n",
    "    (col(\"image_status\") == \"DOWNLOADED\") & (col(\"dom_status\") != \"DOWNLOADED\")\n",
    ").count()\n",
    "\n",
    "print(\"🧾 Statusoversikt:\")\n",
    "print(f\"✅ Ferdigbehandlet (DOM + Image + Mask):      {fullferdig}\")\n",
    "print(f\"🟡 Klar for maske (DOM + Image, mask mangler): {klar_for_mask}\")\n",
    "print(f\"📥 Bare DOM lastet ned:                        {bare_dom}\")\n",
    "print(f\"📸 Bare Image lastet ned:                      {bare_image}\")"
   ]
  },
  {
   "cell_type": "code",
   "execution_count": 0,
   "metadata": {
    "application/vnd.databricks.v1+cell": {
     "cellMetadata": {
      "byteLimit": 2048000,
      "rowLimit": 10000
     },
     "inputWidgets": {},
     "nuid": "3b60729e-464a-4c01-8792-51d0ef621165",
     "showTitle": false,
     "tableResultSettingsMap": {},
     "title": ""
    }
   },
   "outputs": [],
   "source": [
    "endepunkt_df = (\n",
    "    spark.read.table(endepunkt_silver)\n",
    "    .filter(\"(dom_status = 'PENDING') OR (image_status = 'PENDING')\")\n",
    "    .select(\"nodeid\", \"dom_wms\", \"image_wms\", \"dom_status\", \"image_status\")\n",
    "    .toPandas()\n",
    ")"
   ]
  },
  {
   "cell_type": "code",
   "execution_count": 0,
   "metadata": {
    "application/vnd.databricks.v1+cell": {
     "cellMetadata": {
      "byteLimit": 2048000,
      "rowLimit": 10000
     },
     "inputWidgets": {},
     "nuid": "c5842b50-8217-4a43-9861-1799ead7883f",
     "showTitle": false,
     "tableResultSettingsMap": {},
     "title": ""
    }
   },
   "outputs": [],
   "source": [
    "# LAST NED ENDEPUNKT DOM og IMAGE\n",
    "for _, row in endepunkt_df.iterrows():\n",
    "    nodeid = row[\"nodeid\"]\n",
    "\n",
    "    if row[\"dom_status\"] == \"PENDING\":\n",
    "        dom_out = f\"{endepunkt_dom_output_dir}/dom_{nodeid}.png\"\n",
    "        if download_image(row[\"dom_path\"], dom_out):\n",
    "            DeltaTable.forName(spark, endepunkt_silver).update(\n",
    "                condition=f\"nodeid = '{nodeid}'\", set={\"dom_status\": lit(\"DOWNLOADED\")}\n",
    "            )\n",
    "\n",
    "    if row[\"dom_status\"] == \"DOWNLOADED\" and row[\"image_status\"] == \"PENDING\":\n",
    "        refresh_token_if_needed()\n",
    "        base = row[\"image_path\"]\n",
    "        image_url = (\n",
    "            f\"{base}{token}\"\n",
    "            if isinstance(base, str) and base.startswith(\"http\")\n",
    "            else base\n",
    "        )\n",
    "        image_out = f\"{endepunkt_image_output_dir}/image_{nodeid}.png\"\n",
    "\n",
    "        if download_image(image_url, image_out):\n",
    "            DeltaTable.forName(spark, endepunkt_silver).update(\n",
    "                condition=f\"nodeid = '{nodeid}'\",\n",
    "                set={\"image_status\": lit(\"DOWNLOADED\")},\n",
    "            )"
   ]
  }
 ],
 "metadata": {
  "application/vnd.databricks.v1+notebook": {
   "computePreferences": null,
   "dashboards": [],
   "environmentMetadata": {
    "base_environment": "",
    "environment_version": "2"
   },
   "inputWidgetPreferences": null,
   "language": "python",
   "notebookMetadata": {
    "pythonIndentUnit": 4
   },
   "notebookName": "download_data",
   "widgets": {}
  },
  "language_info": {
   "name": "python"
  }
 },
 "nbformat": 4,
 "nbformat_minor": 0
}
