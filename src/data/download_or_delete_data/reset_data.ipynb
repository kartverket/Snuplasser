{
 "cells": [
  {
   "cell_type": "code",
   "execution_count": 0,
   "metadata": {
    "application/vnd.databricks.v1+cell": {
     "cellMetadata": {
      "byteLimit": 2048000,
      "rowLimit": 10000
     },
     "inputWidgets": {},
     "nuid": "3e87a856-b09d-43a8-8379-b94b2617c1b8",
     "showTitle": false,
     "tableResultSettingsMap": {},
     "title": ""
    }
   },
   "outputs": [],
   "source": [
    "img_dir = (\n",
    "    \"/Volumes/land_topografisk-gdb_dev/external_dev/static_data/DL_SNUPLASSER/img/\"\n",
    ")\n",
    "dom_dir = (\n",
    "    \"/Volumes/land_topografisk-gdb_dev/external_dev/static_data/DL_SNUPLASSER/dom/\"\n",
    ")\n",
    "mask_dir = (\n",
    "    \"/Volumes/land_topografisk-gdb_dev/external_dev/static_data/DL_SNUPLASSER/lab/\"\n",
    ")\n",
    "\n",
    "\n",
    "endepunkt_img_dir = (\n",
    "    \"/Volumes/land_topografisk-gdb_dev/external_dev/static_data/DL_SNUPLASSER/endepunkt_images/\"\n",
    ")\n",
    "endepunkt_dom_dir = (\n",
    "    \"/Volumes/land_topografisk-gdb_dev/external_dev/static_data/DL_SNUPLASSER/endepunkt_dom/\"\n",
    ")\n",
    "\n",
    "\n",
    "storreendepunkt_img_dir = (\n",
    "    \"/Volumes/land_topografisk-gdb_dev/external_dev/static_data/DL_SNUPLASSER/storreendepunkt_images/\"\n",
    ")"
   ]
  },
  {
   "cell_type": "code",
   "execution_count": 0,
   "metadata": {
    "application/vnd.databricks.v1+cell": {
     "cellMetadata": {
      "byteLimit": 2048000,
      "rowLimit": 10000
     },
     "inputWidgets": {},
     "nuid": "f9fdfba2-6a32-4d30-8271-325baa267e21",
     "showTitle": false,
     "tableResultSettingsMap": {},
     "title": ""
    }
   },
   "outputs": [],
   "source": [
    "def clean_directory(path: str, file_extension: str = \".png\"):\n",
    "    files = dbutils.fs.ls(path)\n",
    "    to_delete = [f.path for f in files if f.path.endswith(file_extension)]\n",
    "\n",
    "    for file in to_delete:\n",
    "        dbutils.fs.rm(file)\n",
    "        print(f\"Slettet: {file}\")\n",
    "\n",
    "\n",
    "# clean_directory(img_dir)\n",
    "# clean_directory(dom_dir)\n",
    "# clean_directory(mask_dir)  \n",
    "\n",
    "# clean_directory(endepunkt_img_dir)\n",
    "# clean_directory(endepunkt_dom_dir)\n",
    "\n",
    "# clean_directory(storreendepunkt_img_dir)"
   ]
  },
  {
   "cell_type": "code",
   "execution_count": 0,
   "metadata": {
    "application/vnd.databricks.v1+cell": {
     "cellMetadata": {
      "byteLimit": 2048000,
      "rowLimit": 10000
     },
     "inputWidgets": {},
     "nuid": "ff62df21-b773-4635-8caf-f44309687938",
     "showTitle": false,
     "tableResultSettingsMap": {},
     "title": ""
    }
   },
   "outputs": [],
   "source": [
    "def remove_duplicate_files_by_name(path: str, file_extension: str = \".png\") -> None:\n",
    "    files = dbutils.fs.ls(path)\n",
    "    \n",
    "    # Filnavn uten path\n",
    "    name_to_paths = {}\n",
    "    for f in files:\n",
    "        if f.path.endswith(file_extension):\n",
    "            name = f.path.split(\"/\")[-1]\n",
    "            name_to_paths.setdefault(name, []).append(f.path)\n",
    "\n",
    "    duplicates_found = False\n",
    "    for name, paths in name_to_paths.items():\n",
    "        if len(paths) > 1:\n",
    "            duplicates_found = True\n",
    "            # Behold første, slett resten\n",
    "            for file_to_delete in paths[1:]:\n",
    "                dbutils.fs.rm(file_to_delete)\n",
    "                print(f\"Slettet duplikat: {file_to_delete}\")\n",
    "\n",
    "    if not duplicates_found:\n",
    "        print(\"✅ Ingen duplikate filer funnet.\")\n"
   ]
  },
  {
   "cell_type": "code",
   "execution_count": 0,
   "metadata": {
    "application/vnd.databricks.v1+cell": {
     "cellMetadata": {
      "byteLimit": 2048000,
      "rowLimit": 10000
     },
     "inputWidgets": {},
     "nuid": "68a99384-7527-40b4-9139-c83b28c3750f",
     "showTitle": false,
     "tableResultSettingsMap": {},
     "title": ""
    }
   },
   "outputs": [],
   "source": [
    "# remove_duplicate_files_by_name(endepunkt_dom_dir)"
   ]
  }
 ],
 "metadata": {
  "application/vnd.databricks.v1+notebook": {
   "computePreferences": {
    "hardware": {
     "accelerator": null,
     "gpuPoolId": null,
     "memory": null
    }
   },
   "dashboards": [],
   "environmentMetadata": {
    "base_environment": "",
    "environment_version": "2"
   },
   "inputWidgetPreferences": null,
   "language": "python",
   "notebookMetadata": {
    "pythonIndentUnit": 4
   },
   "notebookName": "reset_data",
   "widgets": {}
  },
  "language_info": {
   "name": "python"
  }
 },
 "nbformat": 4,
 "nbformat_minor": 0
}
