{
 "cells": [
  {
   "cell_type": "code",
   "execution_count": 0,
   "metadata": {
    "application/vnd.databricks.v1+cell": {
     "cellMetadata": {},
     "inputWidgets": {},
     "nuid": "ccff9b3c-68ff-481e-a5ec-24529b7ee093",
     "showTitle": false,
     "tableResultSettingsMap": {},
     "title": ""
    }
   },
   "outputs": [],
   "source": [
    "import copy\n",
    "import yaml\n",
    "import argparse\n",
    "import optuna\n",
    "import mlflow\n",
    "from functools import partial\n",
    "\n",
    "from main import run_experiment"
   ]
  },
  {
   "cell_type": "code",
   "execution_count": 0,
   "metadata": {
    "application/vnd.databricks.v1+cell": {
     "cellMetadata": {},
     "inputWidgets": {},
     "nuid": "93672415-1775-4f32-8d31-279fe5b8be32",
     "showTitle": false,
     "tableResultSettingsMap": {},
     "title": ""
    }
   },
   "outputs": [],
   "source": [
    "def objective(trial, base_config, model_name):\n",
    "    config = copy.deepcopy(base_config)  # Ikke endre originalen\n",
    "\n",
    "    if model_name == \"unet\":\n",
    "        config[\"model\"][\"unet\"][\"lr\"] = trial.suggest_float(\"lr\", 1e-5, 1e-2, log=True)\n",
    "        config[\"data\"][\"batch_size\"] = trial.suggest_categorical(\n",
    "            \"batch_size\", [4, 8, 16]\n",
    "        )\n",
    "\n",
    "    trial.set_user_attr(\"lr\", config[\"model\"][model_name][\"lr\"])\n",
    "    trial.set_user_attr(\"batch_size\", config[\"data\"][\"batch_size\"])\n",
    "\n",
    "    val_metric = run_experiment(model_name, config)\n",
    "\n",
    "    # Logger til Optuna\n",
    "    trial.report(val_metric, step=0)\n",
    "\n",
    "    return val_metric"
   ]
  },
  {
   "cell_type": "code",
   "execution_count": 0,
   "metadata": {
    "application/vnd.databricks.v1+cell": {
     "cellMetadata": {},
     "inputWidgets": {},
     "nuid": "a3ef72ac-5053-4204-a0c8-92ec52ce7d57",
     "showTitle": false,
     "tableResultSettingsMap": {},
     "title": ""
    }
   },
   "outputs": [],
   "source": [
    "def main(config_path):\n",
    "    # Load config YAML\n",
    "    with open(config_path) as f:\n",
    "        config = yaml.safe_load(f)\n",
    "\n",
    "    model_name = config[\"model_names\"][0]  # Tune one at a time\n",
    "\n",
    "    direction = config[\"optuna\"][\"direction\"]\n",
    "    n_trials = config[\"optuna\"][\"n_trials\"]\n",
    "    n_jobs = config[\"optuna\"].get(\"n_jobs\", 1)  # Optional parallelism config\n",
    "\n",
    "    study = optuna.create_study(direction=\"maximize\")\n",
    "    \n",
    "    # Optimize in parallel (if n_jobs > 1)\n",
    "    study.optimize(\n",
    "        lambda trial: objective(trial, config, model_name),\n",
    "        n_trials=n_trials,\n",
    "        n_jobs=n_jobs,\n",
    "    )\n",
    "\n",
    "    # Log best parameters and score\n",
    "    mlflow.log_params(study.best_params)\n",
    "    mlflow.log_metric(\"best_val_accuracy\", study.best_value)\n",
    "\n",
    "\n",
    "if __name__ == \"__main__\":\n",
    "    parser = argparse.ArgumentParser()\n",
    "    parser.add_argument(\n",
    "        \"--config\", type=str, default=\"static.yaml\", help=\"Path to YAML config\"\n",
    "    )\n",
    "\n",
    "    args, unknown = parser.parse_known_args()\n",
    "\n",
    "    print(unknown)\n",
    "    print(args.config)\n",
    "\n",
    "    main(args.config)"
   ]
  }
 ],
 "metadata": {
  "application/vnd.databricks.v1+notebook": {
   "computePreferences": null,
   "dashboards": [],
   "environmentMetadata": {
    "base_environment": "",
    "environment_version": "2"
   },
   "inputWidgetPreferences": null,
   "language": "python",
   "notebookMetadata": {
    "pythonIndentUnit": 4
   },
   "notebookName": "main_optuna",
   "widgets": {}
  },
  "language_info": {
   "name": "python"
  }
 },
 "nbformat": 4,
 "nbformat_minor": 0
}
